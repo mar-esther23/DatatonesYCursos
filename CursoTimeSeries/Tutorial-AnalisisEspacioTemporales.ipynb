{
 "cells": [
  {
   "cell_type": "markdown",
   "metadata": {},
   "source": [
    "# Análisis espacio-temporales\n",
    "\n",
    "1. Introducción a los datos\n",
    "2. Revision inicial\n",
    "    * Cargar y limpiar datos\n",
    "    * Profile\n",
    "    * Limpieza\n",
    "3. Análisis temporales\n",
    "    * Series de tiempo\n",
    "    * Eventos cíclicos\n",
    "    * Frecuencia\n",
    "    * Comparaciones"
   ]
  },
  {
   "cell_type": "markdown",
   "metadata": {},
   "source": [
    "## 1. Introducción a los datos\n",
    "\n",
    "En este tutorial trabajaremos con las \"__Carpetas de investigación PGJ de la Ciudad de México__\".\n",
    "\n",
    "Esta base de datos contiene las Carpetas de investigación de delitos a nivel de calle de la Procuraduría General de Justicia de la Ciudad de México desde enero de 2016 hasta junio de 2019. \n",
    "\n",
    "Esta base de datos dejó de actualizarse a partir de julio de 2019 debido a que contiene la información de carpetas de investigación de 2018 previa a la reclasificación que realizó la PGJ-CDMX con supervisión de la Oficina de Naciones Unidas contra la Droga y el Delito (UNDOC) y la validación del Centro Nacional de Información (CNI) del Secretariado Ejecutivo del Sistema Nacional de Seguridad Pública (SESNSP).\n",
    "\n",
    "Los archivos de esta primera serie permanecerán en este sitio para su consulta. Una segunda serie de datos con la información validada, reclasificada y que se actualiza mensualmente puede consultarse en:\n",
    "https://datos.cdmx.gob.mx/explore/dataset/carpetas-de-investigacion-pgj-de-la-ciudad-de-mexico/"
   ]
  },
  {
   "cell_type": "code",
   "execution_count": 1,
   "metadata": {},
   "outputs": [],
   "source": [
    "import pandas as pd\n",
    "import geopandas as gpd\n",
    "from pandas_profiling import ProfileReport\n",
    "from math import ceil\n",
    "\n",
    "%matplotlib inline\n",
    "import matplotlib.pyplot as plt\n",
    "import seaborn as sns\n",
    "\n",
    "import ipywidgets as widgets\n",
    "from ipywidgets import interact, interact_manual\n",
    "\n",
    "from utils import *"
   ]
  },
  {
   "cell_type": "markdown",
   "metadata": {},
   "source": [
    "## 2. Revisión inicial\n",
    "\n",
    "Empezaremos con un conjunto de [datos ordenados](http://vita.had.co.nz/papers/tidy-data.pdf). \n",
    "\n",
    "Algunas definiciones:\n",
    "* Variable: una medida o un atributo. Pueden ser fecha, lugar, altura, peso, sexo, etc.\n",
    "* Valor: la medida o atributo real. 10 de mayo, México, 152 cm, 80 kg, hembra, etc.\n",
    "* Observación: Todos los valores miden en la misma unidad. Cada persona.\n",
    "* Dato: representación simbólica de un atributo o variable cuantitativa o cualitativa.\n",
    "\n",
    "En un conjunto de datos ordenada:\n",
    "* Cada variable forma una columna y contiene valores\n",
    "* Cada observación forma una fila\n",
    "* Cada tipo de unidad de observación forma una tabla"
   ]
  },
  {
   "cell_type": "markdown",
   "metadata": {},
   "source": [
    "### 2.1 Cargar y limpiar datos\n",
    "En primer lugar usamos geopandas para cargar el shape file. Esta tabla contiene una serie de delitos, la fecha y el lugar donde se cometieron."
   ]
  },
  {
   "cell_type": "code",
   "execution_count": 2,
   "metadata": {},
   "outputs": [
    {
     "name": "stdout",
     "output_type": "stream",
     "text": [
      "(829679, 6)\n"
     ]
    },
    {
     "data": {
      "text/html": [
       "<div>\n",
       "<style scoped>\n",
       "    .dataframe tbody tr th:only-of-type {\n",
       "        vertical-align: middle;\n",
       "    }\n",
       "\n",
       "    .dataframe tbody tr th {\n",
       "        vertical-align: top;\n",
       "    }\n",
       "\n",
       "    .dataframe thead th {\n",
       "        text-align: right;\n",
       "    }\n",
       "</style>\n",
       "<table border=\"1\" class=\"dataframe\">\n",
       "  <thead>\n",
       "    <tr style=\"text-align: right;\">\n",
       "      <th></th>\n",
       "      <th>ao_hechos</th>\n",
       "      <th>mes_hechos</th>\n",
       "      <th>fecha_hech</th>\n",
       "      <th>categoria_</th>\n",
       "      <th>alcaldia_h</th>\n",
       "      <th>geometry</th>\n",
       "    </tr>\n",
       "  </thead>\n",
       "  <tbody>\n",
       "    <tr>\n",
       "      <th>829674</th>\n",
       "      <td>2019.0</td>\n",
       "      <td>Julio</td>\n",
       "      <td>2019-07-25T17:30:00-05:00</td>\n",
       "      <td>ROBO A TRANSEUNTE EN V�A P�BLICA CON Y SIN VIO...</td>\n",
       "      <td>IZTAPALAPA</td>\n",
       "      <td>POINT (-99.02078 19.34532)</td>\n",
       "    </tr>\n",
       "    <tr>\n",
       "      <th>829675</th>\n",
       "      <td>2019.0</td>\n",
       "      <td>Julio</td>\n",
       "      <td>2019-07-29T09:15:00-05:00</td>\n",
       "      <td>DELITO DE BAJO IMPACTO</td>\n",
       "      <td>IZTAPALAPA</td>\n",
       "      <td>POINT (-99.00620 19.36608)</td>\n",
       "    </tr>\n",
       "    <tr>\n",
       "      <th>829676</th>\n",
       "      <td>2019.0</td>\n",
       "      <td>Julio</td>\n",
       "      <td>2019-07-28T12:00:00-05:00</td>\n",
       "      <td>DELITO DE BAJO IMPACTO</td>\n",
       "      <td>TLALPAN</td>\n",
       "      <td>POINT (-99.19692 19.23408)</td>\n",
       "    </tr>\n",
       "    <tr>\n",
       "      <th>829677</th>\n",
       "      <td>2019.0</td>\n",
       "      <td>Julio</td>\n",
       "      <td>2019-07-21T09:30:00-05:00</td>\n",
       "      <td>DELITO DE BAJO IMPACTO</td>\n",
       "      <td>COYOACAN</td>\n",
       "      <td>POINT (-99.15480 19.32928)</td>\n",
       "    </tr>\n",
       "    <tr>\n",
       "      <th>829678</th>\n",
       "      <td>2019.0</td>\n",
       "      <td>Julio</td>\n",
       "      <td>2019-07-28T18:30:00-05:00</td>\n",
       "      <td>DELITO DE BAJO IMPACTO</td>\n",
       "      <td>GUSTAVO A MADERO</td>\n",
       "      <td>POINT (-99.17281 19.52421)</td>\n",
       "    </tr>\n",
       "  </tbody>\n",
       "</table>\n",
       "</div>"
      ],
      "text/plain": [
       "        ao_hechos mes_hechos                 fecha_hech  \\\n",
       "829674     2019.0      Julio  2019-07-25T17:30:00-05:00   \n",
       "829675     2019.0      Julio  2019-07-29T09:15:00-05:00   \n",
       "829676     2019.0      Julio  2019-07-28T12:00:00-05:00   \n",
       "829677     2019.0      Julio  2019-07-21T09:30:00-05:00   \n",
       "829678     2019.0      Julio  2019-07-28T18:30:00-05:00   \n",
       "\n",
       "                                               categoria_        alcaldia_h  \\\n",
       "829674  ROBO A TRANSEUNTE EN V�A P�BLICA CON Y SIN VIO...        IZTAPALAPA   \n",
       "829675                             DELITO DE BAJO IMPACTO        IZTAPALAPA   \n",
       "829676                             DELITO DE BAJO IMPACTO           TLALPAN   \n",
       "829677                             DELITO DE BAJO IMPACTO          COYOACAN   \n",
       "829678                             DELITO DE BAJO IMPACTO  GUSTAVO A MADERO   \n",
       "\n",
       "                          geometry  \n",
       "829674  POINT (-99.02078 19.34532)  \n",
       "829675  POINT (-99.00620 19.36608)  \n",
       "829676  POINT (-99.19692 19.23408)  \n",
       "829677  POINT (-99.15480 19.32928)  \n",
       "829678  POINT (-99.17281 19.52421)  "
      ]
     },
     "execution_count": 2,
     "metadata": {},
     "output_type": "execute_result"
    }
   ],
   "source": [
    "base = gpd.read_file('data-clean/alcaldias.shp')\n",
    "\n",
    "df = gpd.read_file('data-clean/datosabiertos_shape_carpetas.shp')\n",
    "print(df.shape)\n",
    "df.tail()"
   ]
  },
  {
   "cell_type": "markdown",
   "metadata": {},
   "source": [
    "Existen varios tipos datos:\n",
    "* Númerico\n",
    "* Categórico\n",
    "* Texto\n",
    "* Fecha\n",
    "* Geometria"
   ]
  },
  {
   "cell_type": "code",
   "execution_count": 3,
   "metadata": {},
   "outputs": [
    {
     "name": "stdout",
     "output_type": "stream",
     "text": [
      "ao_hechos      float64\n",
      "mes_hechos      object\n",
      "fecha_hech      object\n",
      "categoria_      object\n",
      "alcaldia_h      object\n",
      "geometry      geometry\n",
      "dtype: object\n"
     ]
    }
   ],
   "source": [
    "print(df.dtypes)"
   ]
  },
  {
   "cell_type": "markdown",
   "metadata": {},
   "source": [
    "Despues limpiamos las columnas de 'categoria_' y 'alcaldia_h' para quitar carácteres especiales.\n",
    "Nos aseguramos de que 'fecha_hech' este en formato datetime.\n",
    "Quitamos las columnas que no son necesarias."
   ]
  },
  {
   "cell_type": "code",
   "execution_count": 4,
   "metadata": {},
   "outputs": [
    {
     "data": {
      "text/html": [
       "<div>\n",
       "<style scoped>\n",
       "    .dataframe tbody tr th:only-of-type {\n",
       "        vertical-align: middle;\n",
       "    }\n",
       "\n",
       "    .dataframe tbody tr th {\n",
       "        vertical-align: top;\n",
       "    }\n",
       "\n",
       "    .dataframe thead th {\n",
       "        text-align: right;\n",
       "    }\n",
       "</style>\n",
       "<table border=\"1\" class=\"dataframe\">\n",
       "  <thead>\n",
       "    <tr style=\"text-align: right;\">\n",
       "      <th></th>\n",
       "      <th>fecha_hech</th>\n",
       "      <th>categoria_</th>\n",
       "      <th>alcaldia_h</th>\n",
       "      <th>geometry</th>\n",
       "    </tr>\n",
       "  </thead>\n",
       "  <tbody>\n",
       "    <tr>\n",
       "      <th>793116</th>\n",
       "      <td>NaT</td>\n",
       "      <td>Hecho No Delictivo</td>\n",
       "      <td>Iztapalapa</td>\n",
       "      <td>None</td>\n",
       "    </tr>\n",
       "    <tr>\n",
       "      <th>804540</th>\n",
       "      <td>NaT</td>\n",
       "      <td>Delito De Bajo Impacto</td>\n",
       "      <td>Azcapotzalco</td>\n",
       "      <td>POINT (-99.19699 19.49522)</td>\n",
       "    </tr>\n",
       "    <tr>\n",
       "      <th>805715</th>\n",
       "      <td>NaT</td>\n",
       "      <td>Hecho No Delictivo</td>\n",
       "      <td>Gustavo A Madero</td>\n",
       "      <td>None</td>\n",
       "    </tr>\n",
       "    <tr>\n",
       "      <th>805755</th>\n",
       "      <td>NaT</td>\n",
       "      <td>Hecho No Delictivo</td>\n",
       "      <td>Alvaro Obregon</td>\n",
       "      <td>None</td>\n",
       "    </tr>\n",
       "    <tr>\n",
       "      <th>821065</th>\n",
       "      <td>NaT</td>\n",
       "      <td>Delito De Bajo Impacto</td>\n",
       "      <td>Cuauhtemoc</td>\n",
       "      <td>POINT (-99.15985 19.41840)</td>\n",
       "    </tr>\n",
       "  </tbody>\n",
       "</table>\n",
       "</div>"
      ],
      "text/plain": [
       "       fecha_hech              categoria_        alcaldia_h  \\\n",
       "793116        NaT      Hecho No Delictivo        Iztapalapa   \n",
       "804540        NaT  Delito De Bajo Impacto      Azcapotzalco   \n",
       "805715        NaT      Hecho No Delictivo  Gustavo A Madero   \n",
       "805755        NaT      Hecho No Delictivo    Alvaro Obregon   \n",
       "821065        NaT  Delito De Bajo Impacto        Cuauhtemoc   \n",
       "\n",
       "                          geometry  \n",
       "793116                        None  \n",
       "804540  POINT (-99.19699 19.49522)  \n",
       "805715                        None  \n",
       "805755                        None  \n",
       "821065  POINT (-99.15985 19.41840)  "
      ]
     },
     "execution_count": 4,
     "metadata": {},
     "output_type": "execute_result"
    }
   ],
   "source": [
    "df['categoria_'] = df['categoria_'].apply(clean_string)\n",
    "df['alcaldia_h'] = df['alcaldia_h'].apply(clean_string)\n",
    "df['fecha_hech'] = pd.to_datetime(df['fecha_hech'], utc=True)\n",
    "df.sort_values('fecha_hech', inplace=True)\n",
    "df.drop(['ao_hechos','mes_hechos'], axis=1, inplace=True)\n",
    "\n",
    "df.tail()"
   ]
  },
  {
   "cell_type": "markdown",
   "metadata": {},
   "source": [
    "### 2.2 Profiling\n",
    "(En este caso por razones de tiempo solo revisaremos los últimos mil datos)\n",
    "\n",
    "Hacemos una revisión inicial de los datos usando pandas_profiling para saber como son nuestros datos.\n",
    "Esto nos permitirá saber que tipo de datos tenemos y cuantos faltantes hay."
   ]
  },
  {
   "cell_type": "code",
   "execution_count": 5,
   "metadata": {},
   "outputs": [],
   "source": [
    "#ProfileReport(df.tail(1000).drop('geometry', axis=1))"
   ]
  },
  {
   "cell_type": "markdown",
   "metadata": {},
   "source": [
    "### 2.3 Limpieza\n",
    "\n",
    "__La revisión inicial de los datos revela comunmente la necesidad de pasos de limpieza adicionales.__\n",
    "\n",
    "La ciudad de México tiene 16 alcaldías, pero hay 435 valores diferentes en 'alcaldia_h'.\n",
    "Esto se debé a que una carpeta de investigación de la CdMx puede ser sobre un delito que ocurrió en otro lugar.\n",
    "Para simplificar los datos sustituiremos todos los nombres de municipios que no estén en la CdMx por 'Otro'."
   ]
  },
  {
   "cell_type": "code",
   "execution_count": 6,
   "metadata": {},
   "outputs": [
    {
     "data": {
      "text/plain": [
       "17"
      ]
     },
     "execution_count": 6,
     "metadata": {},
     "output_type": "execute_result"
    }
   ],
   "source": [
    "alcaldias = ['Alvaro Obregon', 'Azcapotzalco', 'Benito Juarez', 'Coyoacan', 'Cuajimalpa De Morelos', \n",
    "             'Cuauhtemoc', 'Gustavo A Madero', 'Iztacalco', 'Iztapalapa', 'La Magdalena Contreras', \n",
    "             'Miguel Hidalgo', 'Milpa Alta', 'Tlahuac', 'Tlalpan', 'Venustiano Carranza', 'Xochimilco']\n",
    "df['alcaldia_h'] = df['alcaldia_h'].map({a:a for a in alcaldias}).fillna('Otro')\n",
    "df['alcaldia_h'].nunique()"
   ]
  },
  {
   "cell_type": "markdown",
   "metadata": {},
   "source": [
    "Además, si gráficamos los delitos diarios podemos ver que antes del 1° de enero de 2016 hay muy pocos delitos reportados. Para corregir esto ignoraremos todos los delitos anteriores a 2016. "
   ]
  },
  {
   "cell_type": "code",
   "execution_count": 7,
   "metadata": {},
   "outputs": [
    {
     "data": {
      "image/png": "[encoded data removed]",
      "text/plain": [
       "<Figure size 432x288 with 1 Axes>"
      ]
     },
     "metadata": {
      "needs_background": "light"
     },
     "output_type": "display_data"
    }
   ],
   "source": [
    "pivot_datetime(df, 'categoria_', 'fecha_hech', 'alcaldia_h', \n",
    "               formato='dia', aggfunc='count').sum(axis=0).plot()\n",
    "plt.show()\n",
    "df = df[df['fecha_hech'].dt.year>=2016]"
   ]
  },
  {
   "cell_type": "markdown",
   "metadata": {},
   "source": [
    "Ahora nuestra tabla es ligeramente mas pequeña, pero podemos trabajar mejor con ella"
   ]
  },
  {
   "cell_type": "markdown",
   "metadata": {},
   "source": [
    "Además, gráficaremos las coordenadas con geopandas para darnos una idea inicial de nuestros datos."
   ]
  },
  {
   "cell_type": "code",
   "execution_count": 8,
   "metadata": {},
   "outputs": [
    {
     "data": {
      "image/png": "[encoded data removed]",
      "text/plain": [
       "<Figure size 432x288 with 1 Axes>"
      ]
     },
     "metadata": {
      "needs_background": "light"
     },
     "output_type": "display_data"
    }
   ],
   "source": [
    "df.tail(10000).plot(ax = base.plot(color='white', edgecolor='black'), \n",
    "                    marker='o', color='#fdbb84', markersize=5, alpha=0.5)\n",
    "plt.show()"
   ]
  },
  {
   "cell_type": "code",
   "execution_count": 9,
   "metadata": {},
   "outputs": [],
   "source": [
    "profile = ProfileReport(df.tail(1000).drop('geometry', axis=1), title='Carpetas Investigación PGJ\\nCiudad de México')\n",
    "profile.to_file(output_file=\"'Carpetas_PGJ_CDMX'.html\")"
   ]
  },
  {
   "cell_type": "markdown",
   "metadata": {},
   "source": [
    "## 3. Análisis temporales\n",
    "\n",
    "### 3.1 Series de tiempo\n",
    "En primer lugar gráficaremos cuantos delitos hay por tipo de delito y alcaldía. \n",
    "Este análisis se puede agrupar por día, semana, mes o año. Cada escala temporal nos da datos distintos. Escoger la escala temporal adecuada es muy importante."
   ]
  },
  {
   "cell_type": "code",
   "execution_count": 10,
   "metadata": {},
   "outputs": [
    {
     "data": {
      "application/vnd.jupyter.widget-view+json": {
       "model_id": "3cee8587b15348fbb9d564358850ab8e",
       "version_major": 2,
       "version_minor": 0
      },
      "text/plain": [
       "interactive(children=(Dropdown(description='delito', options=('Todos', 'Delito De Bajo Impacto', 'Hecho No Del…"
      ]
     },
     "metadata": {},
     "output_type": "display_data"
    }
   ],
   "source": [
    "@interact\n",
    "\n",
    "def serie_de_tiempo(delito = ['Todos'] + df['categoria_'].unique().tolist(), \n",
    "                    alcaldia = ['Ciudad de Mexico'] + alcaldias + ['Otro'], \n",
    "                    periodo = ['año','mes','semana','dia']):\n",
    "    # selecionar por delito y alcaldía\n",
    "    if delito=='Todos': df_=df\n",
    "    else: df_ = df[df['categoria_']==delito]\n",
    "    if alcaldia=='Ciudad de Mexico': df_=df_\n",
    "    else: df_ = df_[df_['alcaldia_h']==alcaldia]\n",
    "    \n",
    "    print(\"Delito: {}\\nLugar: {}\\nTotal: {}\".format(delito, alcaldia, df_.shape[0]))\n",
    "    df_ = pivot_datetime(df_, 'categoria_', 'fecha_hech', 'alcaldia_h', \n",
    "                         formato=periodo, aggfunc='count')\n",
    "    df_ = df_.sum(axis=0)\n",
    "    df_.plot(title='{} en {} por {}'.format(delito, alcaldia, periodo))\n",
    "    plt.show()"
   ]
  },
  {
   "cell_type": "markdown",
   "metadata": {},
   "source": [
    "### 3.2 Eventos cíclicos\n",
    "\n",
    "Algunos eventos pueden ser afectados por el día del mes, de la semana o la hora"
   ]
  },
  {
   "cell_type": "code",
   "execution_count": 11,
   "metadata": {},
   "outputs": [
    {
     "data": {
      "application/vnd.jupyter.widget-view+json": {
       "model_id": "ad0a850274bf41d6956471d73eca7092",
       "version_major": 2,
       "version_minor": 0
      },
      "text/plain": [
       "interactive(children=(Dropdown(description='delito', options=('Todos', 'Delito De Bajo Impacto', 'Hecho No Del…"
      ]
     },
     "metadata": {},
     "output_type": "display_data"
    }
   ],
   "source": [
    "@interact\n",
    "\n",
    "def serie_de_tiempo(delito = ['Todos'] + df['categoria_'].unique().tolist(), \n",
    "                    alcaldia = ['Ciudad de Mexico'] + alcaldias + ['Otro'], \n",
    "                    ciclo = ['dia_del_mes', 'dia_semana', 'hora']):\n",
    "    # selecionar por delito y alcaldía\n",
    "    if delito=='Todos': df_=df\n",
    "    else: df_ = df[df['categoria_']==delito]\n",
    "    if alcaldia=='Ciudad de Mexico': df_=df_\n",
    "    else: df_ = df_[df_['alcaldia_h']==alcaldia]\n",
    "    \n",
    "    print(\"Delito: {}\\nLugar: {}\\nTotal: {}\".format(delito, alcaldia, df_.shape[0]))\n",
    "    df_ = pivot_datetime(df_, 'categoria_', 'fecha_hech', 'alcaldia_h', \n",
    "                         formato=ciclo, aggfunc='count')\n",
    "    df_ = df_.sum(axis=0)\n",
    "    df_.plot(title='{} en {} por {}'.format(delito, alcaldia, ciclo))\n",
    "    plt.show()"
   ]
  },
  {
   "cell_type": "markdown",
   "metadata": {},
   "source": [
    "### 3.3 Frecuencia\n",
    "\n",
    "Una pregunta importante es que tan frecuente es un evento, es decir, cada cuanto tiempo se comete un delito."
   ]
  },
  {
   "cell_type": "code",
   "execution_count": 12,
   "metadata": {},
   "outputs": [
    {
     "data": {
      "application/vnd.jupyter.widget-view+json": {
       "model_id": "5c4cdcd1529945148feedb9a64451a8b",
       "version_major": 2,
       "version_minor": 0
      },
      "text/plain": [
       "interactive(children=(Dropdown(description='delito', options=('Todos', 'Delito De Bajo Impacto', 'Hecho No Del…"
      ]
     },
     "metadata": {},
     "output_type": "display_data"
    }
   ],
   "source": [
    "@interact\n",
    "\n",
    "def frecuencia(delito = ['Todos'] + df['categoria_'].unique().tolist(), \n",
    "                    alcaldia = ['Ciudad de Mexico'] + alcaldias + ['Otro'], \n",
    "                    periodo = ['minuto', 'hora', 'día', 'semana', 'mes']):\n",
    "    # selecionar por delito y alcaldía\n",
    "    if delito=='Todos': df_=df\n",
    "    else: df_ = df[df['categoria_']==delito]\n",
    "    if alcaldia=='Ciudad de Mexico': df_=df_\n",
    "    else: df_ = df_[df_['alcaldia_h']==alcaldia]\n",
    "    if periodo=='minuto': dt=60\n",
    "    if periodo=='hora':   dt=360\n",
    "    if periodo=='día':    dt=360*24\n",
    "    if periodo=='semana': dt=360*24*7\n",
    "    if periodo=='mes':    dt=360*24*30\n",
    "        \n",
    "    df_ = df_['fecha_hech'].diff().dt.total_seconds().dropna().div(dt)\n",
    "    \n",
    "    print(\"Delito: {}\\nLugar: {}\\nTotal: {}\\tPromedio: {}\".format(delito, alcaldia, df_.shape[0], round(df_.mean(),3)))\n",
    "    sns.distplot( df_, kde=False, bins = ceil(df_.max()) )\n",
    "    plt.title('Frecuencia {} en {} por {}'.format(delito, alcaldia, periodo))\n",
    "    plt.show()\n",
    "\n"
   ]
  },
  {
   "cell_type": "markdown",
   "metadata": {},
   "source": [
    "### 3.4 Comparaciones\n",
    "\n",
    "Para entender un fenómeno muchas veces hay que entender la relación entre variables. Por ejemplo, podemos preguntarnos si la incidencia de un delito correlaciona con algún otro delito.\n",
    "\n",
    "La correlación es la relación estadística entre dos variables. La formula de la correlación lineal es:\n",
    "$$ \\rho _{X,Y}\n",
    "=\\operatorname {corr} (X,Y)\n",
    "={\\operatorname {cov} (X,Y) \\over \\sigma _{X}\\sigma _{Y}}\n",
    "={\\operatorname {E} [(X-\\mu _{X})(Y-\\mu _{Y})] \\over \\sigma _{X}\\sigma _{Y}}\n",
    "$$\n"
   ]
  },
  {
   "cell_type": "code",
   "execution_count": 13,
   "metadata": {},
   "outputs": [
    {
     "data": {
      "application/vnd.jupyter.widget-view+json": {
       "model_id": "fb66da712b2f46cc90c8e463ccd1011e",
       "version_major": 2,
       "version_minor": 0
      },
      "text/plain": [
       "interactive(children=(Dropdown(description='alcaldia', options=('Ciudad de Mexico', 'Alvaro Obregon', 'Azcapot…"
      ]
     },
     "metadata": {},
     "output_type": "display_data"
    }
   ],
   "source": [
    "@interact\n",
    "\n",
    "def correlacion(alcaldia = ['Ciudad de Mexico'] + alcaldias + ['Otro']):\n",
    "    if alcaldia=='Ciudad de Mexico': df_=df\n",
    "    else: df_ = df[df['alcaldia_h']==alcaldia]\n",
    "    \n",
    "    df_ = pd.pivot_table(df_, aggfunc='count', index=df_['fecha_hech'].dt.strftime('%Y-%m-%d'), \n",
    "                          columns='categoria_', values='geometry', fill_value=0)\n",
    "    df_ = df_.corr().dropna(how=\"all\").dropna(axis=1,how=\"all\")\n",
    "    sns.set(font_scale = 0.7)\n",
    "    fig = sns.clustermap(data=df_, \n",
    "                         cmap=sns.color_palette(\"BrBG\", 15), \n",
    "                         vmin=-1, vmax=1     )\n",
    "    fig.fig.suptitle(\"Correlación en la incidencia delictiva en {}\".format(alcaldia)) \n",
    "    #fig.ax_heatmap.set_xticks([])\n",
    "    #fig.ax_col_dendrogram.set_visible(False)\n",
    "    fig.ax_row_dendrogram.set_visible(False)\n",
    "    plt.show()"
   ]
  }
 ],
 "metadata": {
  "kernelspec": {
   "display_name": "Python 3",
   "language": "python",
   "name": "python3"
  },
  "language_info": {
   "codemirror_mode": {
    "name": "ipython",
    "version": 3
   },
   "file_extension": ".py",
   "mimetype": "text/x-python",
   "name": "python",
   "nbconvert_exporter": "python",
   "pygments_lexer": "ipython3",
   "version": "3.7.4"
  }
 },
 "nbformat": 4,
 "nbformat_minor": 4
}
